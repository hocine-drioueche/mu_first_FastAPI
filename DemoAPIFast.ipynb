{
 "cells": [
  {
   "cell_type": "code",
   "execution_count": 3,
   "id": "e382f4fc",
   "metadata": {},
   "outputs": [],
   "source": [
    "import requests\n",
    "import pandas as pd"
   ]
  },
  {
   "cell_type": "code",
   "execution_count": 8,
   "id": "2664a346",
   "metadata": {},
   "outputs": [],
   "source": [
    "# Si vous éxectuer l'API localement sur le port par défaut de FastAPI, utilisez ceci:\n",
    "BASE_URL=\"http://127.0.0.1:8000\""
   ]
  },
  {
   "cell_type": "code",
   "execution_count": 9,
   "id": "63d70506",
   "metadata": {},
   "outputs": [
    {
     "name": "stdout",
     "output_type": "stream",
     "text": [
      "{'Message': 'Bienvenue sur notre API de génération de nombre aléatoire'}\n"
     ]
    }
   ],
   "source": [
    "# Récupérer le message d'accueil\n",
    "reponse_accueil= requests.get(f\"{BASE_URL}/\")\n",
    "print(reponse_accueil.json())"
   ]
  },
  {
   "cell_type": "code",
   "execution_count": 20,
   "id": "c3c2676c",
   "metadata": {},
   "outputs": [
    {
     "name": "stdout",
     "output_type": "stream",
     "text": [
      "{'nombre_aleatoire': 506}\n",
      "\n",
      "   nombre_aleatoire\n",
      "0               506\n"
     ]
    }
   ],
   "source": [
    "# Générer un nombre alétoire\n",
    "reponse_nombre=requests.get(f\"{BASE_URL}/nombre_aleatoire\")\n",
    "print(reponse_nombre.json())\n",
    "\n",
    "print(\"\", end=\"\\n\") # sauter des lignes entre les deux résultats\n",
    "\n",
    "df=pd.DataFrame([reponse_nombre.json()])\n",
    "print(df)"
   ]
  },
  {
   "cell_type": "code",
   "execution_count": 21,
   "id": "3fb991f9",
   "metadata": {},
   "outputs": [
    {
     "name": "stdout",
     "output_type": "stream",
     "text": [
      "{'nombre_aleatoire': 4028}\n",
      "\n",
      "   nombre_aleatoire\n",
      "0              4028\n"
     ]
    }
   ],
   "source": [
    "# Générer des nombres entre le min et le max\n",
    "min_val=1000\n",
    "max_val=10000\n",
    "\n",
    "reponse_nb_minmax=requests.get(f\"{BASE_URL}/nombre_aleatoire/{min_val}_{max_val}\")\n",
    "print(reponse_nb_minmax.json())\n",
    "\n",
    "print(\"\", end=\"\\n\") # sauter des lignes entre les deux résultats\n",
    "\n",
    "df=pd.DataFrame([reponse_nb_minmax.json()])\n",
    "print(df)"
   ]
  },
  {
   "cell_type": "code",
   "execution_count": null,
   "id": "98336cc6",
   "metadata": {},
   "outputs": [],
   "source": []
  },
  {
   "cell_type": "code",
   "execution_count": null,
   "id": "e7024e66",
   "metadata": {},
   "outputs": [],
   "source": []
  }
 ],
 "metadata": {
  "kernelspec": {
   "display_name": "Python 3 (ipykernel)",
   "language": "python",
   "name": "python3"
  },
  "language_info": {
   "codemirror_mode": {
    "name": "ipython",
    "version": 3
   },
   "file_extension": ".py",
   "mimetype": "text/x-python",
   "name": "python",
   "nbconvert_exporter": "python",
   "pygments_lexer": "ipython3",
   "version": "3.11.5"
  }
 },
 "nbformat": 4,
 "nbformat_minor": 5
}
